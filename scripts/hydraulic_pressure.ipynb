{
  "cells": [
    {
      "cell_type": "code",
      "execution_count": null,
      "metadata": {
        "id": "KuQuavTXdIYU"
      },
      "outputs": [],
      "source": [
        "#!pip install boto3"
      ]
    },
    {
      "cell_type": "code",
      "execution_count": null,
      "metadata": {
        "colab": {
          "base_uri": "https://localhost:8080/",
          "height": 201
        },
        "id": "PGdtRhlIdKSA",
        "outputId": "c663d507-9faf-4009-c5b3-8f192e68f43b"
      },
      "outputs": [],
      "source": [
        "import boto3\n",
        "import json\n",
        "from random import uniform\n",
        "import time\n",
        "from datetime import datetime\n",
        "\n",
        "\n",
        "cliente = boto3.client('kinesis',\n",
        "                       aws_access_key_id='????',\n",
        "                       aws_secret_access_key='????',\n",
        "                       region_name='sa-east-1')\n",
        "\n",
        "id = 0\n",
        "while True:\n",
        "  dados = uniform(70,80)\n",
        "  id += 1;\n",
        "  registro = {'idtemp'    : str(id), \n",
        "              'data'      : str(dados), \n",
        "              'type'      :'hydraulicpressure', \n",
        "              'timestamp' : str(datetime.now()) }\n",
        "  \n",
        "  cliente.put_record(StreamName='windfarm', \n",
        "                     Data = json.dumps(registro), \n",
        "                     PartitionKey='02')\n",
        "  time.sleep(10)"
      ]
    },
    {
      "cell_type": "code",
      "execution_count": null,
      "metadata": {
        "id": "y-ZLrSzCi-ec"
      },
      "outputs": [],
      "source": []
    }
  ],
  "metadata": {
    "colab": {
      "provenance": []
    },
    "kernelspec": {
      "display_name": "Python 3",
      "name": "python3"
    },
    "language_info": {
      "codemirror_mode": {
        "name": "ipython",
        "version": 3
      },
      "file_extension": ".py",
      "mimetype": "text/x-python",
      "name": "python",
      "nbconvert_exporter": "python",
      "pygments_lexer": "ipython3",
      "version": "3.9.19"
    }
  },
  "nbformat": 4,
  "nbformat_minor": 0
}

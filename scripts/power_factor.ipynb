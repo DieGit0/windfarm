{
  "cells": [
    {
      "cell_type": "code",
      "execution_count": null,
      "metadata": {
        "id": "9T_7M2jYaVlF"
      },
      "outputs": [],
      "source": [
        "# !pip install boto3"
      ]
    },
    {
      "cell_type": "code",
      "execution_count": null,
      "metadata": {
        "colab": {
          "base_uri": "https://localhost:8080/",
          "height": 235
        },
        "id": "IvQTW5t3ai7j",
        "outputId": "6622bb9a-31ea-4afd-fd8a-e36e1a13c284"
      },
      "outputs": [],
      "source": [
        "import boto3\n",
        "import json\n",
        "from   random import uniform\n",
        "import time\n",
        "from datetime import datetime\n",
        "\n",
        "\n",
        "cliente = boto3.client('kinesis',\n",
        "                       aws_access_key_id='????',\n",
        "                       aws_secret_access_key='????',\n",
        "                       region_name='sa-east-1')\n",
        "\n",
        "id = 0\n",
        "while True:\n",
        "  dados = uniform(0.7,1)\n",
        "  id += 1;\n",
        "  registro = {'idtemp'    : str(id), \n",
        "              'data'      : str(dados), \n",
        "              'type'      :'powerfactor', \n",
        "              'timestamp' : str(datetime.now()) }\n",
        "  \n",
        "  cliente.put_record(StreamName='windfarm', \n",
        "                     Data = json.dumps(registro), \n",
        "                     PartitionKey='02')\n",
        "  time.sleep(10)"
      ]
    },
    {
      "cell_type": "code",
      "execution_count": null,
      "metadata": {
        "id": "R6d4J7lddHkg"
      },
      "outputs": [],
      "source": []
    },
    {
      "cell_type": "code",
      "execution_count": null,
      "metadata": {
        "id": "HnjZPdTxckcN"
      },
      "outputs": [],
      "source": []
    }
  ],
  "metadata": {
    "colab": {
      "provenance": []
    },
    "kernelspec": {
      "display_name": "Python 3",
      "name": "python3"
    },
    "language_info": {
      "codemirror_mode": {
        "name": "ipython",
        "version": 3
      },
      "file_extension": ".py",
      "mimetype": "text/x-python",
      "name": "python",
      "nbconvert_exporter": "python",
      "pygments_lexer": "ipython3",
      "version": "3.9.19"
    }
  },
  "nbformat": 4,
  "nbformat_minor": 0
}
